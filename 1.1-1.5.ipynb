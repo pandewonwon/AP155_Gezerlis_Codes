{
 "cells": [
  {
   "cell_type": "code",
   "execution_count": 2,
   "id": "4fbb6f1f-aedb-439b-9bd4-7c9ca3c8cbb2",
   "metadata": {},
   "outputs": [],
   "source": [
    "import random"
   ]
  },
  {
   "cell_type": "code",
   "execution_count": 28,
   "id": "d6a7a14a-b87e-4e62-b5a0-e1b28bbf41ca",
   "metadata": {},
   "outputs": [
    {
     "name": "stdout",
     "output_type": "stream",
     "text": [
      "0\n"
     ]
    }
   ],
   "source": [
    "x = random.randrange(0,1)\n",
    "if x!=0: #! means not i.e., if x is not zero\n",
    "    print(\"x is non-zero\")\n",
    "else:\n",
    "    print(x)\n",
    "    "
   ]
  },
  {
   "cell_type": "code",
   "execution_count": 32,
   "id": "b317aec5-eb3d-42a9-8ebb-34e220a20dec",
   "metadata": {},
   "outputs": [
    {
     "name": "stdout",
     "output_type": "stream",
     "text": [
      "negative -2\n"
     ]
    }
   ],
   "source": [
    "x = random.randrange(-5,5)\n",
    "if x<0: #! means not i.e., if x is not zero\n",
    "    print(\"negative\", x)\n",
    "elif x==1:\n",
    "    print(\"That's a one\", x)\n",
    "else:\n",
    "    print(\"It's positive pero hindi one\", x)"
   ]
  },
  {
   "cell_type": "code",
   "execution_count": 15,
   "id": "dd811912-ea95-4314-8855-919f9d64d135",
   "metadata": {},
   "outputs": [
    {
     "name": "stdout",
     "output_type": "stream",
     "text": [
      "[0.0, 0.1, 0.2, 0.30000000000000004, 0.4, 0.5, 0.6000000000000001, 0.7000000000000001, 0.8, 0.9, 1.0, 1.1, 1.2000000000000002, 1.3, 1.4000000000000001, 1.5, 1.6, 1.7000000000000002, 1.8, 1.9000000000000001]\n"
     ]
    }
   ],
   "source": [
    "#1.3.3 Data Structures\n",
    "#This is a list. a list is bounded by brackets []\n",
    "xs=[] #empty list \n",
    "for i in range(20):\n",
    "    xs.append(0.1*i) #append function adds the for loop condition that is satisfied into the list\n",
    "\n",
    "print(xs)"
   ]
  },
  {
   "cell_type": "code",
   "execution_count": 18,
   "id": "44c1b4d0-44ea-4ec2-b2c8-49e9e9825106",
   "metadata": {},
   "outputs": [
    {
     "name": "stdout",
     "output_type": "stream",
     "text": [
      "3.1 -2.5\n"
     ]
    }
   ],
   "source": [
    "# Trying out the format() function\n",
    "x,y = 3.1, -2.5\n",
    "\"{0} {1}\".format(x,y)\n",
    "\n",
    "print(x,y)"
   ]
  },
  {
   "cell_type": "code",
   "execution_count": 17,
   "id": "658a51d0-401a-471c-8427-e37b91215106",
   "metadata": {},
   "outputs": [
    {
     "name": "stdout",
     "output_type": "stream",
     "text": [
      "3.1 -2.5\n"
     ]
    }
   ],
   "source": [
    "# The format() function changes the format or how a number/integer/float is typed.\n",
    "\"{0:1.15f} {1}\".format(x,y)\n",
    "print(x,y)"
   ]
  },
  {
   "cell_type": "code",
   "execution_count": 19,
   "id": "23b1d6b1-e342-44c9-b286-41189771b119",
   "metadata": {},
   "outputs": [
    {
     "name": "stdout",
     "output_type": "stream",
     "text": [
      "15\n"
     ]
    }
   ],
   "source": [
    "#defining a code:\n",
    "def sumofints(nmax):\n",
    "    val=sum(range(1,nmax+1)) #range() includes 1 until nmax\n",
    "    return val\n",
    "\n",
    "nmax=5\n",
    "print(sumofints(nmax))"
   ]
  },
  {
   "cell_type": "code",
   "execution_count": 1,
   "id": "d675f4a9-2243-494b-9a90-7f04919408b2",
   "metadata": {},
   "outputs": [
    {
     "name": "stdout",
     "output_type": "stream",
     "text": [
      "Eve\n",
      "None\n"
     ]
    }
   ],
   "source": [
    "#code 1.1 forelse.py\n",
    "def look(target,names): #When defining functions, always include the arguments\n",
    "    for name in names:\n",
    "        if name==target:\n",
    "            val=name\n",
    "            break\n",
    "\n",
    "    else:\n",
    "        val=None\n",
    "    return val\n",
    "\n",
    "names=[\"Alice\",\"Bob\",\"Eve\"]\n",
    "print(look(\"Eve\", names))\n",
    "print(look(\"Jack\",names))"
   ]
  },
  {
   "cell_type": "code",
   "execution_count": 34,
   "id": "730bd73e-89b1-4700-ad64-f2cd4f902bc0",
   "metadata": {},
   "outputs": [
    {
     "name": "stdout",
     "output_type": "stream",
     "text": [
      "1\n",
      "3\n",
      "5\n",
      "7\n",
      "9\n"
     ]
    }
   ],
   "source": [
    "#while() function\n",
    "x=1\n",
    "while(x<11): \n",
    "    print(x)\n",
    "    x+=2 #increments of 2"
   ]
  },
  {
   "cell_type": "code",
   "execution_count": 36,
   "id": "2b5e37ce-5c56-405f-ae78-d14a49b6933d",
   "metadata": {},
   "outputs": [
    {
     "name": "stdout",
     "output_type": "stream",
     "text": [
      "10\n",
      "8\n",
      "6\n",
      "4\n",
      "2\n"
     ]
    }
   ],
   "source": [
    "for i in range(10,1,-2):\n",
    "    print(i)"
   ]
  },
  {
   "cell_type": "code",
   "execution_count": 44,
   "id": "1f023b95-c8cc-43f4-a544-5b84db0ca218",
   "metadata": {},
   "outputs": [
    {
     "name": "stdout",
     "output_type": "stream",
     "text": [
      "0.1    0.08    0.06    0.04    0.02    "
     ]
    }
   ],
   "source": [
    "for i  in range(10,1,-2):\n",
    "    print(0.01*i, end=\"    \")"
   ]
  },
  {
   "cell_type": "code",
   "execution_count": 3,
   "id": "96d5fded-9b9b-40ec-b460-d05cd2fa9a39",
   "metadata": {},
   "outputs": [
    {
     "name": "stdout",
     "output_type": "stream",
     "text": [
      "HEADS\n"
     ]
    }
   ],
   "source": [
    "x=random.randrange(0,2)\n",
    "\n",
    "if x==0:\n",
    "    print(\"TAILS\")\n",
    "elif x==1: #elif is else, if (when there's another option/condition you want) \n",
    "    print(\"HEADS\")\n",
    "\n",
    "#Dharl and I cannot decide if we should buy DQ. Heads or Tails?"
   ]
  },
  {
   "cell_type": "code",
   "execution_count": null,
   "id": "2af360db-eb4a-4702-917e-d604b8c2c1dd",
   "metadata": {},
   "outputs": [],
   "source": []
  }
 ],
 "metadata": {
  "kernelspec": {
   "display_name": "Python 3 (ipykernel)",
   "language": "python",
   "name": "python3"
  },
  "language_info": {
   "codemirror_mode": {
    "name": "ipython",
    "version": 3
   },
   "file_extension": ".py",
   "mimetype": "text/x-python",
   "name": "python",
   "nbconvert_exporter": "python",
   "pygments_lexer": "ipython3",
   "version": "3.12.11"
  }
 },
 "nbformat": 4,
 "nbformat_minor": 5
}
