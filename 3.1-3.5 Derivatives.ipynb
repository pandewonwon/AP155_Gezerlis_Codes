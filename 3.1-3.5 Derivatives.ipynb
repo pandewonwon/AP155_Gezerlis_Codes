{
 "cells": [
  {
   "cell_type": "code",
   "execution_count": null,
   "id": "5cb8d01d-a960-4222-a4dc-2b953e9273fc",
   "metadata": {},
   "outputs": [],
   "source": [
    "#Backward Difference and h_opt"
   ]
  },
  {
   "cell_type": "code",
   "execution_count": null,
   "id": "7c1bfce8-3b86-4789-80b1-c9ddbf9ff1ef",
   "metadata": {},
   "outputs": [],
   "source": [
    "#Second derivatives and Interpolation"
   ]
  },
  {
   "cell_type": "code",
   "execution_count": 2,
   "id": "f1f09352-418c-41ad-93bc-ce277d030a62",
   "metadata": {},
   "outputs": [],
   "source": [
    "import numpy as np\n",
    "from math import exp,sin,cos,log10"
   ]
  },
  {
   "cell_type": "code",
   "execution_count": 3,
   "id": "c56563bb-bb35-445d-b627-489407272566",
   "metadata": {},
   "outputs": [
    {
     "name": "stdout",
     "output_type": "stream",
     "text": [
      "h    abs.error in fd    abs.error in cd\n",
      "1e-01   0.3077044583376249   0.0134656094697734\n",
      "1e-02   0.0260359156900742   0.0001350472493096\n",
      "1e-03   0.0025550421497806   0.0000013505120728\n",
      "1e-04   0.0002550180941236   0.0000000135077878\n",
      "1e-05   0.0000254969542519   0.0000000001495843\n",
      "1e-06   0.0000025492660578   0.0000000002500959\n",
      "1e-07   0.0000002564334673   0.0000000011382744\n",
      "1e-08   0.0000000189018428   0.0000000189018428\n",
      "1e-09   0.0000003741732106   0.0000000699159992\n",
      "1e-10   0.0000021505300500   0.0000021505300500\n",
      "1e-11   0.0000332367747395   0.0000111721462455\n"
     ]
    }
   ],
   "source": [
    "def f(x):\n",
    "    return exp(sin(2*x))\n",
    "\n",
    "def fprime(x):\n",
    "    return 2*exp(sin(2*x))*cos(2*x)\n",
    "\n",
    "def calc_fd(f,x,h): #Forward Difference\n",
    "    fd=(f(x+h)-f(x))/h\n",
    "    return fd\n",
    "\n",
    "def calc_cd(f,x,h): #Central Difference and h_opt\n",
    "    cd=(f(x+h/2)-f(x-h/2))/h\n",
    "    return cd\n",
    "\n",
    "x=0.5\n",
    "an=fprime(x)\n",
    "\n",
    "hs=[10**(-i) for i in range(1,12)]\n",
    "fds=[abs(calc_fd(f,x,h)-an)for h in hs]\n",
    "cds=[abs(calc_cd(f,x,h)-an)for h in hs]\n",
    "\n",
    "rowf=\"{0:1.0e}   {1:1.16f}   {2:1.16f}\"\n",
    "print(\"h    abs.error in fd    abs.error in cd\")\n",
    "for i in range(len(hs)):\n",
    "    print(rowf.format(hs[i],fds[i],cds[i]))"
   ]
  },
  {
   "cell_type": "code",
   "execution_count": 6,
   "id": "1ef94617-1a8a-47ed-a50e-1f3fe83f0714",
   "metadata": {},
   "outputs": [
    {
     "name": "stdout",
     "output_type": "stream",
     "text": [
      "[ 1.  2.  3.  4.  5.  6.  7.  8.  9. 10.]\n",
      "[10.  1.  2.  3.  4.  5.  6.  7.  8.  9.]\n",
      "[ 9. -1. -1. -1. -1. -1. -1. -1. -1. -1.]\n"
     ]
    }
   ],
   "source": [
    "#Suppose you have a numpy array\n",
    "x=np.linspace(1,10,10)\n",
    "print(x)\n",
    "\n",
    "#I can move all values to the left/right using roll\n",
    "x_roll=np.roll(x,1) #change 1 to -1. what happens? \n",
    "print(x_roll)\n",
    "\n",
    "#then I could exploit array operations to get their difference\n",
    "x_diff=x_roll-x\n",
    "print(x_diff)"
   ]
  },
  {
   "cell_type": "code",
   "execution_count": null,
   "id": "3d2a6eac-e210-42d2-9bcb-be67ebdbfc8e",
   "metadata": {},
   "outputs": [],
   "source": []
  }
 ],
 "metadata": {
  "kernelspec": {
   "display_name": "Python 3 (ipykernel)",
   "language": "python",
   "name": "python3"
  },
  "language_info": {
   "codemirror_mode": {
    "name": "ipython",
    "version": 3
   },
   "file_extension": ".py",
   "mimetype": "text/x-python",
   "name": "python",
   "nbconvert_exporter": "python",
   "pygments_lexer": "ipython3",
   "version": "3.12.11"
  }
 },
 "nbformat": 4,
 "nbformat_minor": 5
}
