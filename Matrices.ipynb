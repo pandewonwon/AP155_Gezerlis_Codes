{
 "cells": [
  {
   "cell_type": "code",
   "execution_count": 2,
   "id": "a289fd03-a036-4abb-adf3-2a7a13d0b2c2",
   "metadata": {},
   "outputs": [],
   "source": [
    "import numpy as np"
   ]
  },
  {
   "cell_type": "code",
   "execution_count": 3,
   "id": "ee3da291-a6fa-4caf-a438-02605fe2d6d4",
   "metadata": {},
   "outputs": [
    {
     "name": "stdout",
     "output_type": "stream",
     "text": [
      "[[-7.5]\n",
      " [ 2.5]\n",
      " [-2.5]\n",
      " [ 7.5]]\n"
     ]
    }
   ],
   "source": [
    "R1=1\n",
    "R2=1\n",
    "R3=1\n",
    "R4=1\n",
    "\n",
    "V1=5\n",
    "V2=10\n",
    "\n",
    "r_matrix=np.array([\n",
    "    [-R1,-R2,0,0], #loop 1\n",
    "    [R2,0,R3,0], #loop 2\n",
    "    [0,R2,0,R4], #loop 3\n",
    "    [1,-1,-1,1], #Junction Rule\n",
    "])\n",
    "\n",
    "v_matrix=np.array([\n",
    "    [V1],\n",
    "    [-V2],\n",
    "    [V2],\n",
    "    [0],\n",
    "])\n",
    "\n",
    "i_matrix=np.linalg.solve(r_matrix,v_matrix)\n",
    "print(i_matrix)"
   ]
  },
  {
   "cell_type": "code",
   "execution_count": 4,
   "id": "d782f694-62ce-4985-a275-97eb98b97a9f",
   "metadata": {},
   "outputs": [
    {
     "name": "stdout",
     "output_type": "stream",
     "text": [
      "[[ 1.66666667]\n",
      " [ 1.66666667]\n",
      " [-0.83333333]\n",
      " [ 1.66666667]\n",
      " [ 1.66666667]]\n"
     ]
    }
   ],
   "source": [
    "N=2\n",
    "Vin=5\n",
    "R1,R2,R3,R4=1,1,2,2\n",
    "\n",
    "r_matrix=np.array([\n",
    "    [R1,0,0,R4,0],\n",
    "    [R1,R2,-R3,0,0],\n",
    "    [0,R2,0,R4,0],\n",
    "    [1,-1,0,1,-1],\n",
    "    [-1,-1,0,1,1],       \n",
    "])\n",
    "\n",
    "v_matrix=np.array([\n",
    "    [Vin],\n",
    "    [Vin],\n",
    "    [Vin],\n",
    "    [0],\n",
    "    [0],\n",
    "])\n",
    "\n",
    "i_matrix=np.linalg.solve(r_matrix,v_matrix)\n",
    "print(i_matrix)"
   ]
  }
 ],
 "metadata": {
  "kernelspec": {
   "display_name": "Python 3 (ipykernel)",
   "language": "python",
   "name": "python3"
  },
  "language_info": {
   "codemirror_mode": {
    "name": "ipython",
    "version": 3
   },
   "file_extension": ".py",
   "mimetype": "text/x-python",
   "name": "python",
   "nbconvert_exporter": "python",
   "pygments_lexer": "ipython3",
   "version": "3.12.11"
  }
 },
 "nbformat": 4,
 "nbformat_minor": 5
}
