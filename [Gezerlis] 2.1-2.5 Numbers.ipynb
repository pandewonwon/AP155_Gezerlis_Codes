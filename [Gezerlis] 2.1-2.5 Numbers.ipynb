{
 "cells": [
  {
   "cell_type": "code",
   "execution_count": 2,
   "id": "cc9cb960-14ea-4076-945e-86d24ea08605",
   "metadata": {},
   "outputs": [],
   "source": [
    "import matplotlib.pyplot as plt\n",
    "import numpy as np\n",
    "\n",
    "from decimal import Decimal\n",
    "from fractions import Fraction"
   ]
  },
  {
   "cell_type": "code",
   "execution_count": null,
   "id": "0172cf87-c580-4414-a98f-98c168a81f3b",
   "metadata": {},
   "outputs": [],
   "source": [
    "#Python uses 64-bit float by default for any number you type in with a decimal point. \n",
    "#Different floating point precision can be used at a lower level, which we can go around by using Numpy dtypes."
   ]
  },
  {
   "cell_type": "code",
   "execution_count": 3,
   "id": "775942c1-3149-4d26-aef0-d22e71d995fd",
   "metadata": {},
   "outputs": [
    {
     "name": "stdout",
     "output_type": "stream",
     "text": [
      "0.30000000000000004\n",
      "0.30000000000000001665\n",
      "0.2998\n",
      "0.3000000000000000166533453694\n",
      "0.3\n",
      "3/10\n"
     ]
    }
   ],
   "source": [
    "#Classic floating point quirks example\n",
    "print(0.1+0.2)\n",
    "#How about increasing precision?\n",
    "print(np.float128(0.1)+np.float128(0.2))\n",
    "#How bad is decreasing precision?\n",
    "print(np.float16(0.1)+np.float16(0.2))\n",
    "#Closest we could get to fixed-point arithmetic:decimal\n",
    "print(Decimal(0.1)+Decimal(0.2))\n",
    "#How about using an explicit Fraction object type?\n",
    "print(float(Fraction(1,10)+Fraction(1,5)))\n",
    "\n",
    "print(Fraction(1,10)+Fraction(1,5))"
   ]
  },
  {
   "cell_type": "code",
   "execution_count": 4,
   "id": "adc66e21-ff9e-45b3-aebd-e37649fe234c",
   "metadata": {},
   "outputs": [
    {
     "ename": "OverflowError",
     "evalue": "(34, 'Numerical result out of range')",
     "output_type": "error",
     "traceback": [
      "\u001b[31m---------------------------------------------------------------------------\u001b[39m",
      "\u001b[31mOverflowError\u001b[39m                             Traceback (most recent call last)",
      "\u001b[36mCell\u001b[39m\u001b[36m \u001b[39m\u001b[32mIn[4]\u001b[39m\u001b[32m, line 2\u001b[39m\n\u001b[32m      1\u001b[39m x=\u001b[32m0\u001b[39m\n\u001b[32m----> \u001b[39m\u001b[32m2\u001b[39m x+=\u001b[32;43m2.\u001b[39;49m\u001b[43m*\u001b[49m\u001b[43m*\u001b[49m\u001b[32;43m2000\u001b[39;49m\n\u001b[32m      3\u001b[39m \u001b[38;5;66;03m#This is an example of overflow. Using integers will not give this error unlike floating points. \u001b[39;00m\n",
      "\u001b[31mOverflowError\u001b[39m: (34, 'Numerical result out of range')"
     ]
    }
   ],
   "source": [
    "x=0\n",
    "x+=2.**2000\n",
    "#This is an example of overflow. Using integers will not give this error unlike floating points. "
   ]
  },
  {
   "cell_type": "code",
   "execution_count": 5,
   "id": "1d64c86f-9114-466d-98b6-37e29407cfe8",
   "metadata": {},
   "outputs": [
    {
     "data": {
      "text/plain": [
       "nan"
      ]
     },
     "execution_count": 5,
     "metadata": {},
     "output_type": "execute_result"
    }
   ],
   "source": [
    "np.inf-np.inf\n",
    "#infinity minus infinity is not a number (nan)"
   ]
  },
  {
   "cell_type": "code",
   "execution_count": 6,
   "id": "36ed3f6a-790f-4925-a42c-65f739f554de",
   "metadata": {},
   "outputs": [
    {
     "name": "stdout",
     "output_type": "stream",
     "text": [
      "9007199254740992\n",
      "9007199254740993\n",
      "9007199254740992.0\n",
      "9007199254740992.0\n",
      "Doubles get farther apart as they get bigger.Between 2^n and 2^(n+1), there are 2^52 doubles evenly spaced. That means that the next double after 2^60 is 2^60+64\n"
     ]
    }
   ],
   "source": [
    "print(2**53)\n",
    "print(2**53+1) #Integers have no problem in approximation or truncation errors\n",
    "print(2.**53)\n",
    "print(2.**53+1) #Using decimals or floats are subject to approximation or truncation errors\n",
    "print(\"Doubles get farther apart as they get bigger.Between 2^n and 2^(n+1), there are 2^52 doubles evenly spaced. That means that the next double after 2^60 is 2^60+64\")"
   ]
  },
  {
   "cell_type": "code",
   "execution_count": 10,
   "id": "cef03d2f-6dcd-495f-a5e6-8898ba2ef2a7",
   "metadata": {},
   "outputs": [
    {
     "name": "stdout",
     "output_type": "stream",
     "text": [
      "total_distance= 262144.0\n",
      "iterations*step_size= 1e+06\n",
      "There is a discrepancy\n"
     ]
    }
   ],
   "source": [
    "iterations = 100000000\n",
    "step_size=np.float32(0.01)\n",
    "total_distance=np.float32(0)\n",
    "\n",
    "for i in range (iterations):\n",
    "    total_distance+=step_size\n",
    "print(\"total_distance=\",total_distance)\n",
    "print(\"iterations*step_size=\",iterations*step_size)\n",
    "print(\"There is a discrepancy\")"
   ]
  },
  {
   "cell_type": "code",
   "execution_count": 9,
   "id": "d88ee907-5ace-41ac-ae9e-167a48397887",
   "metadata": {},
   "outputs": [
    {
     "name": "stdout",
     "output_type": "stream",
     "text": [
      "total_distance= 2000000.0017106067\n",
      "iterations*step_size= 2000000.0\n"
     ]
    }
   ],
   "source": [
    "iterations=200000000\n",
    "step_size=0.01\n",
    "total_distance=0\n",
    "\n",
    "for i in range(iterations):\n",
    "    total_distance+=step_size\n",
    "print(\"total_distance=\",total_distance)\n",
    "print(\"iterations*step_size=\",iterations*step_size)"
   ]
  },
  {
   "cell_type": "code",
   "execution_count": 12,
   "id": "1f8adcd1-e12e-48cd-a96a-bcb3128122d3",
   "metadata": {},
   "outputs": [
    {
     "name": "stdout",
     "output_type": "stream",
     "text": [
      "-0.0009999832650532314\n"
     ]
    }
   ],
   "source": [
    "a=1000\n",
    "while a >= 0:\n",
    "    a-=0.001\n",
    "\n",
    "print(a)"
   ]
  },
  {
   "cell_type": "code",
   "execution_count": null,
   "id": "410e6ef9-83d3-4f83-9356-e510f06ca2b0",
   "metadata": {},
   "outputs": [],
   "source": []
  }
 ],
 "metadata": {
  "kernelspec": {
   "display_name": "Python 3 (ipykernel)",
   "language": "python",
   "name": "python3"
  },
  "language_info": {
   "codemirror_mode": {
    "name": "ipython",
    "version": 3
   },
   "file_extension": ".py",
   "mimetype": "text/x-python",
   "name": "python",
   "nbconvert_exporter": "python",
   "pygments_lexer": "ipython3",
   "version": "3.12.11"
  }
 },
 "nbformat": 4,
 "nbformat_minor": 5
}
